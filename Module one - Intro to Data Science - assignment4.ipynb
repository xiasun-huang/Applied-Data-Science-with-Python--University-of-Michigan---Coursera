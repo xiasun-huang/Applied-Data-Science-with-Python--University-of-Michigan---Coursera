{
 "cells": [
  {
   "cell_type": "markdown",
   "metadata": {
    "deletable": false,
    "editable": false,
    "nbgrader": {
     "checksum": "48770f8b5f5d3062d3badd51fcafc401",
     "grade": false,
     "grade_id": "cell-a6c4f74309fc2379",
     "locked": true,
     "schema_version": 1,
     "solution": false
    }
   },
   "source": [
    "# Assignment 4\n",
    "## Description\n",
    "In this assignment you must read in a file of metropolitan regions and associated sports teams from [assets/wikipedia_data.html](assets/wikipedia_data.html) and answer some questions about each metropolitan region. Each of these regions may have one or more teams from the \"Big 4\": NFL (football, in [assets/nfl.csv](assets/nfl.csv)), MLB (baseball, in [assets/mlb.csv](assets/mlb.csv)), NBA (basketball, in [assets/nba.csv](assets/nba.csv) or NHL (hockey, in [assets/nhl.csv](assets/nhl.csv)). Please keep in mind that all questions are from the perspective of the metropolitan region, and that this file is the \"source of authority\" for the location of a given sports team. Thus teams which are commonly known by a different area (e.g. \"Oakland Raiders\") need to be mapped into the metropolitan region given (e.g. San Francisco Bay Area). This will require some human data understanding outside of the data you've been given (e.g. you will have to hand-code some names, and might need to google to find out where teams are)!\n",
    "\n",
    "For each sport I would like you to answer the question: **what is the win/loss ratio's correlation with the population of the city it is in?** Win/Loss ratio refers to the number of wins over the number of wins plus the number of losses. Remember that to calculate the correlation with [`pearsonr`](https://docs.scipy.org/doc/scipy/reference/generated/scipy.stats.pearsonr.html), so you are going to send in two ordered lists of values, the populations from the wikipedia_data.html file and the win/loss ratio for a given sport in the same order. Average the win/loss ratios for those cities which have multiple teams of a single sport. Each sport is worth an equal amount in this assignment (20%\\*4=80%) of the grade for this assignment. You should only use data **from year 2018** for your analysis -- this is important!\n",
    "\n",
    "## Notes\n",
    "\n",
    "1. Do not include data about the MLS or CFL in any of the work you are doing, we're only interested in the Big 4 in this assignment.\n",
    "2. I highly suggest that you first tackle the four correlation questions in order, as they are all similar and worth the majority of grades for this assignment. This is by design!\n",
    "3. It's fair game to talk with peers about high level strategy as well as the relationship between metropolitan areas and sports teams. However, do not post code solving aspects of the assignment (including such as dictionaries mapping areas to teams, or regexes which will clean up names).\n",
    "4. There may be more teams than the assert statements test, remember to collapse multiple teams in one city into a single value!"
   ]
  },
  {
   "cell_type": "markdown",
   "metadata": {
    "deletable": false,
    "editable": false,
    "nbgrader": {
     "checksum": "369ff9ecf0ee04640574205cbc697f94",
     "grade": false,
     "grade_id": "cell-712b2b5da63d4505",
     "locked": true,
     "schema_version": 1,
     "solution": false
    }
   },
   "source": [
    "## Question 1\n",
    "For this question, calculate the win/loss ratio's correlation with the population of the city it is in for the **NHL** using **2018** data."
   ]
  },
  {
   "cell_type": "code",
   "execution_count": 2,
   "metadata": {
    "deletable": false,
    "nbgrader": {
     "checksum": "1cac4803b02502929f5b1612d48db2b5",
     "grade": false,
     "grade_id": "cell-69b16e4386e58030",
     "locked": false,
     "schema_version": 1,
     "solution": true
    }
   },
   "outputs": [
    {
     "data": {
      "text/plain": [
       "0.012308996455744249"
      ]
     },
     "execution_count": 2,
     "metadata": {},
     "output_type": "execute_result"
    }
   ],
   "source": [
    "import pandas as pd\n",
    "import numpy as np\n",
    "import scipy.stats as stats\n",
    "import re\n",
    "\n",
    "def nhl_correlation():\n",
    "    nhl_df=pd.read_csv(\"assets/nhl.csv\")\n",
    "    cities=pd.read_html(\"assets/wikipedia_data.html\")[1]\n",
    "    cities=cities.iloc[:-1,[0,3,5,6,7,8]]\n",
    "    # YOUR CODE HERE\n",
    "    # select 2018 data\n",
    "    nhl_df = nhl_df[nhl_df['year']==2018]\n",
    "    # remove *\n",
    "    nhl_df['team'] = nhl_df['team'].map(lambda x: x.strip('*'))\n",
    "    # remove irrelevant rows\n",
    "    nhl_df.drop(nhl_df[nhl_df['team'] == 'Atlantic Division'].index, inplace=True)\n",
    "    nhl_df.drop(nhl_df[nhl_df['team'] == 'Metropolitan Division'].index, inplace=True)\n",
    "    nhl_df.drop(nhl_df[nhl_df['team'] == 'Central Division'].index, inplace=True)\n",
    "    nhl_df.drop(nhl_df[nhl_df['team'] == 'Pacific Division'].index, inplace=True)\n",
    "\n",
    "    # create new column, city, and rename the column\n",
    "    nhl_df['city'] = nhl_df['team'].apply(lambda x: x.split()[0])\n",
    "    nhl_df['city'].replace({'New': 'New York City', 'St.': 'St. Louis', 'Vegas': 'Las Vegas', 'San': 'San Francisco Bay Area',\n",
    "                       'Los': 'Los Angeles', 'Tempa': 'Tampa Bay Area', 'Florida': 'Miami–Fort Lauderdale', 'Washington': 'Washington, D.C.',\n",
    "                       'Carolina': 'Raleigh', 'Minnesota': 'Minneapolis–Saint Paul', 'Colorado': 'Denver', 'Dallas': 'Dallas–Fort Worth',\n",
    "                       'Anaheim': 'Los Angeles', 'Arizona': 'Phoenix', 'Tampa': 'Tampa Bay Area'}, inplace=True)\n",
    "    # reformat data type for column, W, L, Population\n",
    "    nhl_df['W'] = pd.to_numeric(nhl_df['W'])\n",
    "    nhl_df['L'] = pd.to_numeric(nhl_df['L'])\n",
    "    cities['Population (2016 est.)[8]'] = pd.to_numeric(cities['Population (2016 est.)[8]'])\n",
    "    # merge nhl_df and cities\n",
    "    df_new = pd.merge(nhl_df, cities, left_on='city', right_on='Metropolitan area')\n",
    "    df_new = df_new[['city','W','L','Metropolitan area','Population (2016 est.)[8]']]\n",
    "    # groupby Metropolitan area\n",
    "    df_new_group = df_new.groupby('city').mean().reset_index()\n",
    "    # calculate w/(w+l)\n",
    "    df_new_group['ratio'] = df_new_group['W']/(df_new_group['W']+df_new_group['L'])\n",
    "    population_by_region = df_new_group['Population (2016 est.)[8]'] # pass in metropolitan area population from cities\n",
    "    win_loss_by_region = df_new_group['ratio'] # pass in win/loss ratio from nhl_df in the same order as cities[\"Metropolitan area\"]\n",
    "    #raise NotImplementedError()\n",
    "    assert len(population_by_region) == len(win_loss_by_region), \"Q1: Your lists must be the same length\"\n",
    "    assert len(population_by_region) == 28, \"Q1: There should be 28 teams being analysed for NHL\"\n",
    "    \n",
    "    return stats.pearsonr(population_by_region, win_loss_by_region)[0]\n",
    "\n",
    "nhl_correlation()"
   ]
  },
  {
   "cell_type": "code",
   "execution_count": null,
   "metadata": {
    "deletable": false,
    "editable": false,
    "nbgrader": {
     "checksum": "52a581df513c71153e105b93764cda4b",
     "grade": true,
     "grade_id": "cell-ebe0b2dfe1067e63",
     "locked": true,
     "points": 20,
     "schema_version": 1,
     "solution": false
    }
   },
   "outputs": [],
   "source": []
  },
  {
   "cell_type": "markdown",
   "metadata": {
    "deletable": false,
    "editable": false,
    "nbgrader": {
     "checksum": "988912cae4968d81473f46d783e79c16",
     "grade": false,
     "grade_id": "cell-cb964e690298b71d",
     "locked": true,
     "schema_version": 1,
     "solution": false
    }
   },
   "source": [
    "## Question 2\n",
    "For this question, calculate the win/loss ratio's correlation with the population of the city it is in for the **NBA** using **2018** data."
   ]
  },
  {
   "cell_type": "code",
   "execution_count": 241,
   "metadata": {
    "deletable": false,
    "nbgrader": {
     "checksum": "9394222aafc8ccab0a228098ba0d6010",
     "grade": false,
     "grade_id": "cell-5a5f21279e3d3572",
     "locked": false,
     "schema_version": 1,
     "solution": true
    }
   },
   "outputs": [
    {
     "data": {
      "text/plain": [
       "-0.17657160252844617"
      ]
     },
     "execution_count": 241,
     "metadata": {},
     "output_type": "execute_result"
    }
   ],
   "source": [
    "import pandas as pd\n",
    "import numpy as np\n",
    "import scipy.stats as stats\n",
    "import re\n",
    "\n",
    "def nba_correlation():\n",
    "    nba_df=pd.read_csv(\"assets/nba.csv\")\n",
    "    cities=pd.read_html(\"assets/wikipedia_data.html\")[1]\n",
    "    cities=cities.iloc[:-1,[0,3,5,6,7,8]]\n",
    "    # YOUR CODE HERE\n",
    "    # select 2018 data\n",
    "    nba_df = nba_df[nba_df['year']==2018]\n",
    "    # remove irrelevant rows\n",
    "    nba_df.drop(nba_df[nba_df['team'] == 'Atlantic Division'].index, inplace=True)\n",
    "    nba_df.drop(nba_df[nba_df['team'] == 'Southeast Division'].index, inplace=True)\n",
    "    nba_df.drop(nba_df[nba_df['team'] == 'Central Division'].index, inplace=True)\n",
    "    nba_df.drop(nba_df[nba_df['team'] == 'Southeast Division'].index, inplace=True)\n",
    "    nba_df.drop(nba_df[nba_df['team'] == 'Pacific Division'].index, inplace=True)\n",
    "    nba_df.drop(nba_df[nba_df['team'] == 'Southwest Division'].index, inplace=True)\n",
    "\n",
    "    # create new column, city, and rename the column\n",
    "    nba_df['city'] = nba_df['team'].apply(lambda x: x.split()[0])\n",
    "    # replace city name \"new\"\n",
    "    nba_df['city'].replace({'San': 'San Antonio', 'Los': 'Los Angeles', 'Dallas': 'Dallas–Fort Worth', 'Indiana': 'Indianapolis',\n",
    "                       'Miami': 'Miami–Fort Lauderdale', 'Washington': 'Washington, D.C.', 'Brooklyn': 'New York City',\n",
    "                       'Golden': 'San Francisco Bay Area', 'Oklahoma': 'Oklahoma City', 'Utah': 'Salt Lake City', 'Minnesota': 'Minneapolis–Saint Paul',\n",
    "                       'NewYorkCity': 'New York City', 'NewOrleans': 'New Orleans'}, inplace=True)\n",
    "    nba_df['city'][10] = 'New York City'\n",
    "    nba_df['city'][20] = 'New Orleans'\n",
    "    # reformat data type for column, W, L, Population\n",
    "    nba_df['W'] = pd.to_numeric(nba_df['W'])\n",
    "    nba_df['L'] = pd.to_numeric(nba_df['L'])\n",
    "    cities['Population (2016 est.)[8]'] = pd.to_numeric(cities['Population (2016 est.)[8]'])\n",
    "    # merge nhl_df and cities\n",
    "    df_new = pd.merge(nba_df, cities, left_on='city', right_on='Metropolitan area', how='outer')\n",
    "    df_new = df_new[['city','W','L','Metropolitan area','Population (2016 est.)[8]']]\n",
    "    # groupby Metropolitan area\n",
    "    df_new_group = df_new.groupby('city').mean().reset_index()\n",
    "    # calculate w/(w+l)\n",
    "    df_new_group['ratio'] = df_new_group['W']/(df_new_group['W']+df_new_group['L'])\n",
    "    # raise NotImplementedError()\n",
    "    \n",
    "    population_by_region = df_new_group['Population (2016 est.)[8]'] # pass in metropolitan area population from cities\n",
    "    win_loss_by_region = df_new_group['ratio'] # pass in win/loss ratio from nba_df in the same order as cities[\"Metropolitan area\"]\n",
    "\n",
    "    assert len(population_by_region) == len(win_loss_by_region), \"Q2: Your lists must be the same length\"\n",
    "    assert len(population_by_region) == 28, \"Q2: There should be 28 teams being analysed for NBA\"\n",
    "\n",
    "    return stats.pearsonr(population_by_region, win_loss_by_region)[0]\n",
    "\n",
    "nba_correlation()"
   ]
  },
  {
   "cell_type": "code",
   "execution_count": null,
   "metadata": {
    "deletable": false,
    "editable": false,
    "nbgrader": {
     "checksum": "bbdeb8eb22f525a34c10dc8798324e42",
     "grade": true,
     "grade_id": "cell-e573b2b4a282b470",
     "locked": true,
     "points": 20,
     "schema_version": 1,
     "solution": false
    }
   },
   "outputs": [],
   "source": []
  },
  {
   "cell_type": "markdown",
   "metadata": {
    "deletable": false,
    "editable": false,
    "nbgrader": {
     "checksum": "1a1a5809f675ca033086422007cd73bd",
     "grade": false,
     "grade_id": "cell-96e15e4335df78f4",
     "locked": true,
     "schema_version": 1,
     "solution": false
    }
   },
   "source": [
    "## Question 3\n",
    "For this question, calculate the win/loss ratio's correlation with the population of the city it is in for the **MLB** using **2018** data."
   ]
  },
  {
   "cell_type": "code",
   "execution_count": 136,
   "metadata": {
    "deletable": false,
    "nbgrader": {
     "checksum": "27e8c0da6c9fa0dffc10488314335b6c",
     "grade": false,
     "grade_id": "cell-33b00fc3f3467b0c",
     "locked": false,
     "schema_version": 1,
     "solution": true
    }
   },
   "outputs": [
    {
     "data": {
      "text/plain": [
       "0.1505230448710485"
      ]
     },
     "execution_count": 136,
     "metadata": {},
     "output_type": "execute_result"
    }
   ],
   "source": [
    "import pandas as pd\n",
    "import numpy as np\n",
    "import scipy.stats as stats\n",
    "import re\n",
    "\n",
    "def mlb_correlation(): \n",
    "    mlb_df=pd.read_csv(\"assets/mlb.csv\")\n",
    "    cities=pd.read_html(\"assets/wikipedia_data.html\")[1]\n",
    "    cities=cities.iloc[:-1,[0,3,5,6,7,8]]\n",
    "    # YOUR CODE HERE\n",
    "    # select 2018 data\n",
    "    mlb_df = mlb_df[mlb_df['year']==2018]\n",
    "    # create new column, city, and rename the column\n",
    "    mlb_df['city'] = mlb_df['team'].apply(lambda x: x.split()[0])\n",
    "    # rename city name 'San'\n",
    "    mlb_df.loc[mlb_df['city'] == 'San', 'city'] = ['San Francisco Bay Area', 'San Diego']\n",
    "    mlb_df['city'].replace({'New': 'New York City', 'Los': 'Los Angeles', 'St.': 'St. Louis',\n",
    "                       'Tampa': 'Tampa Bay Area', 'Minnesota': 'Minneapolis–Saint Paul', 'Kansas': 'Kansas City',\n",
    "                       'Texas': 'Dallas–Fort Worth', 'Washington': 'Washington, D.C.', 'Miami': 'Miami–Fort Lauderdale',\n",
    "                       'Colorado': 'Denver', 'Arizona': 'Phoenix', 'Oakland': 'San Francisco Bay Area'}, inplace=True)\n",
    "    # reformat data type for column, W, L, Population\n",
    "    mlb_df['W'] = pd.to_numeric(mlb_df['W'])\n",
    "    mlb_df['L'] = pd.to_numeric(mlb_df['L'])\n",
    "    cities['Population (2016 est.)[8]'] = pd.to_numeric(cities['Population (2016 est.)[8]'])\n",
    "    # merge nhl_df and cities\n",
    "    df_new = pd.merge(mlb_df, cities, left_on='city', right_on='Metropolitan area', how='outer')\n",
    "    df_new = df_new[['city','W','L','Metropolitan area','Population (2016 est.)[8]']]\n",
    "    # groupby Metropolitan area\n",
    "    df_new_group = df_new.groupby('city').mean().reset_index()\n",
    "    # calculate w/(w+l)\n",
    "    df_new_group['ratio'] = df_new_group['W']/(df_new_group['W']+df_new_group['L'])\n",
    "    # raise NotImplementedError()\n",
    "  \n",
    "    population_by_region = df_new_group['Population (2016 est.)[8]'] # pass in metropolitan area population from cities\n",
    "    win_loss_by_region = df_new_group['ratio'] # pass in win/loss ratio from nba_df in the same order as cities[\"Metropolitan area\"]\n",
    "\n",
    "    #raise NotImplementedError()\n",
    "    \n",
    "    assert len(population_by_region) == len(win_loss_by_region), \"Q3: Your lists must be the same length\"\n",
    "    assert len(population_by_region) == 26, \"Q3: There should be 26 teams being analysed for MLB\"\n",
    "\n",
    "    return stats.pearsonr(population_by_region, win_loss_by_region)[0]\n",
    "\n",
    "mlb_correlation()"
   ]
  },
  {
   "cell_type": "code",
   "execution_count": null,
   "metadata": {
    "deletable": false,
    "editable": false,
    "nbgrader": {
     "checksum": "cda33b094ba19ccc37a481e0dd29e0bc",
     "grade": true,
     "grade_id": "cell-764d4476f425c5a2",
     "locked": true,
     "points": 20,
     "schema_version": 1,
     "solution": false
    }
   },
   "outputs": [],
   "source": []
  },
  {
   "cell_type": "markdown",
   "metadata": {
    "deletable": false,
    "editable": false,
    "nbgrader": {
     "checksum": "6977a6da9ed6d8b7a0b7e37bbeda709b",
     "grade": false,
     "grade_id": "cell-793df6c04dfb126e",
     "locked": true,
     "schema_version": 1,
     "solution": false
    }
   },
   "source": [
    "## Question 4\n",
    "For this question, calculate the win/loss ratio's correlation with the population of the city it is in for the **NFL** using **2018** data."
   ]
  },
  {
   "cell_type": "code",
   "execution_count": 166,
   "metadata": {
    "deletable": false,
    "nbgrader": {
     "checksum": "c4914ad1e119278ec2bd567c52640b66",
     "grade": false,
     "grade_id": "cell-8ccebc209aeec8d9",
     "locked": false,
     "schema_version": 1,
     "solution": true
    }
   },
   "outputs": [
    {
     "data": {
      "text/plain": [
       "0.004922112149349393"
      ]
     },
     "execution_count": 166,
     "metadata": {},
     "output_type": "execute_result"
    }
   ],
   "source": [
    "import pandas as pd\n",
    "import numpy as np\n",
    "import scipy.stats as stats\n",
    "import re\n",
    "\n",
    "def nfl_correlation(): \n",
    "    nfl_df=pd.read_csv(\"assets/nfl.csv\")\n",
    "    cities=pd.read_html(\"assets/wikipedia_data.html\")[1]\n",
    "    cities=cities.iloc[:-1,[0,3,5,6,7,8]]\n",
    "\n",
    "    # YOUR CODE HERE\n",
    "    # select 2018 data\n",
    "    nfl_df = nfl_df[nfl_df['year']==2018]\n",
    "    # remove irrelevant rows\n",
    "    nfl_df.drop(nfl_df[nfl_df['team'] == 'AFC East'].index, inplace=True)\n",
    "    nfl_df.drop(nfl_df[nfl_df['team'] == 'AFC North'].index, inplace=True)\n",
    "    nfl_df.drop(nfl_df[nfl_df['team'] == 'AFC South'].index, inplace=True)\n",
    "    nfl_df.drop(nfl_df[nfl_df['team'] == 'AFC West'].index, inplace=True)\n",
    "    nfl_df.drop(nfl_df[nfl_df['team'] == 'NFC East'].index, inplace=True)\n",
    "    nfl_df.drop(nfl_df[nfl_df['team'] == 'NFC North'].index, inplace=True)\n",
    "    nfl_df.drop(nfl_df[nfl_df['team'] == 'NFC South'].index, inplace=True)\n",
    "    nfl_df.drop(nfl_df[nfl_df['team'] == 'NFC West'].index, inplace=True)\n",
    "    # create new column, city, and rename the column\n",
    "    nfl_df['city'] = nfl_df['team'].apply(lambda x: x.split()[0])\n",
    "    # rename city name \"New\"\n",
    "    nfl_df.loc[nfl_df['city']=='New', 'city'] = ['Boston', 'New York City', 'New York City', 'New Orleans']\n",
    "    nfl_df['city'].replace({'Miami': 'Miami–Fort Lauderdale', 'Tennessee': 'Nashville', 'Kansas': 'Kansas City',\n",
    "                       'Los': 'Los Angeles', 'Oakland': 'San Francisco Bay Area', 'Dallas': 'Dallas–Fort Worth',\n",
    "                       'Washington': 'Washington, D.C.', 'Minnesota': 'Minneapolis–Saint Paul', 'Green': 'Green Bay',\n",
    "                       'Carolina': 'Charlotte', 'Tampa': 'Tampa Bay Area', 'San': 'San Francisco Bay Area',\n",
    "                       'Arizona': 'Phoenix'}, inplace=True)\n",
    "    # reformat data type for column, W, L, Population\n",
    "    nfl_df['W'] = pd.to_numeric(nfl_df['W'])\n",
    "    nfl_df['L'] = pd.to_numeric(nfl_df['L'])\n",
    "    cities['Population (2016 est.)[8]'] = pd.to_numeric(cities['Population (2016 est.)[8]'])\n",
    "    # merge nhl_df and cities\n",
    "    df_new = pd.merge(nfl_df, cities, left_on='city', right_on='Metropolitan area', how='outer')\n",
    "    df_new = df_new[['city','W','L','Metropolitan area','Population (2016 est.)[8]']]\n",
    "    # groupby Metropolitan area\n",
    "    df_new_group = df_new.groupby('city').mean().reset_index()\n",
    "    # calculate w/(w+l)\n",
    "    df_new_group['ratio'] = df_new_group['W']/(df_new_group['W']+df_new_group['L'])\n",
    "    # raise NotImplementedError()\n",
    "  \n",
    "    population_by_region = df_new_group['Population (2016 est.)[8]'] # pass in metropolitan area population from cities\n",
    "    win_loss_by_region = df_new_group['ratio'] # pass in win/loss ratio from nba_df in the same order as cities[\"Metropolitan area\"]\n",
    "\n",
    "    # raise NotImplementedError()\n",
    "    \n",
    "    assert len(population_by_region) == len(win_loss_by_region), \"Q4: Your lists must be the same length\"\n",
    "    assert len(population_by_region) == 29, \"Q4: There should be 29 teams being analysed for NFL\"\n",
    "\n",
    "    return stats.pearsonr(population_by_region, win_loss_by_region)[0]\n",
    "\n",
    "nfl_correlation()"
   ]
  },
  {
   "cell_type": "code",
   "execution_count": null,
   "metadata": {
    "deletable": false,
    "editable": false,
    "nbgrader": {
     "checksum": "e9415d6399aa49e3a1a60813afdefa3b",
     "grade": true,
     "grade_id": "cell-de7b148b9554dbda",
     "locked": true,
     "points": 20,
     "schema_version": 1,
     "solution": false
    }
   },
   "outputs": [],
   "source": []
  },
  {
   "cell_type": "markdown",
   "metadata": {
    "deletable": false,
    "editable": false,
    "nbgrader": {
     "checksum": "b02d5cd3273f561e4ae939bb2a41740c",
     "grade": false,
     "grade_id": "cell-97b49d8639e908c4",
     "locked": true,
     "schema_version": 1,
     "solution": false
    }
   },
   "source": [
    "## Question 5\n",
    "In this question I would like you to explore the hypothesis that **given that an area has two sports teams in different sports, those teams will perform the same within their respective sports**. How I would like to see this explored is with a series of paired t-tests (so use [`ttest_rel`](https://docs.scipy.org/doc/scipy/reference/generated/scipy.stats.ttest_rel.html)) between all pairs of sports. Are there any sports where we can reject the null hypothesis? Again, average values where a sport has multiple teams in one region. Remember, you will only be including, for each sport, cities which have teams engaged in that sport, drop others as appropriate. This question is worth 20% of the grade for this assignment."
   ]
  },
  {
   "cell_type": "code",
   "execution_count": 109,
   "metadata": {
    "deletable": false,
    "nbgrader": {
     "checksum": "6d78c961eb66f8d8c81f06d33ae8f393",
     "grade": false,
     "grade_id": "cell-92f25f44b8d1179f",
     "locked": false,
     "schema_version": 1,
     "solution": true
    }
   },
   "outputs": [
    {
     "data": {
      "text/html": [
       "<div>\n",
       "<style scoped>\n",
       "    .dataframe tbody tr th:only-of-type {\n",
       "        vertical-align: middle;\n",
       "    }\n",
       "\n",
       "    .dataframe tbody tr th {\n",
       "        vertical-align: top;\n",
       "    }\n",
       "\n",
       "    .dataframe thead th {\n",
       "        text-align: right;\n",
       "    }\n",
       "</style>\n",
       "<table border=\"1\" class=\"dataframe\">\n",
       "  <thead>\n",
       "    <tr style=\"text-align: right;\">\n",
       "      <th></th>\n",
       "      <th>NFL</th>\n",
       "      <th>NBA</th>\n",
       "      <th>NHL</th>\n",
       "      <th>MLB</th>\n",
       "    </tr>\n",
       "  </thead>\n",
       "  <tbody>\n",
       "    <tr>\n",
       "      <th>NFL</th>\n",
       "      <td>NaN</td>\n",
       "      <td>0.941792</td>\n",
       "      <td>0.030959</td>\n",
       "      <td>0.802384</td>\n",
       "    </tr>\n",
       "    <tr>\n",
       "      <th>NBA</th>\n",
       "      <td>0.941792</td>\n",
       "      <td>NaN</td>\n",
       "      <td>0.022316</td>\n",
       "      <td>0.951046</td>\n",
       "    </tr>\n",
       "    <tr>\n",
       "      <th>NHL</th>\n",
       "      <td>0.030959</td>\n",
       "      <td>0.022316</td>\n",
       "      <td>NaN</td>\n",
       "      <td>0.000712</td>\n",
       "    </tr>\n",
       "    <tr>\n",
       "      <th>MLB</th>\n",
       "      <td>0.802384</td>\n",
       "      <td>0.951046</td>\n",
       "      <td>0.000712</td>\n",
       "      <td>NaN</td>\n",
       "    </tr>\n",
       "  </tbody>\n",
       "</table>\n",
       "</div>"
      ],
      "text/plain": [
       "          NFL       NBA       NHL       MLB\n",
       "NFL       NaN  0.941792  0.030959  0.802384\n",
       "NBA  0.941792       NaN  0.022316  0.951046\n",
       "NHL  0.030959  0.022316       NaN  0.000712\n",
       "MLB  0.802384  0.951046  0.000712       NaN"
      ]
     },
     "execution_count": 109,
     "metadata": {},
     "output_type": "execute_result"
    }
   ],
   "source": [
    "import pandas as pd\n",
    "import numpy as np\n",
    "import scipy.stats as stats\n",
    "import re\n",
    "\n",
    "def nhl_by_area():\n",
    "    nhl_df=pd.read_csv(\"assets/nhl.csv\")\n",
    "    cities=pd.read_html(\"assets/wikipedia_data.html\")[1]\n",
    "    cities=cities.iloc[:-1,[0,3,5,6,7,8]]\n",
    "    # select 2018 data\n",
    "    nhl_df = nhl_df[nhl_df['year']==2018]\n",
    "    # remove *\n",
    "    nhl_df['team'] = nhl_df['team'].map(lambda x: x.strip('*'))\n",
    "    # remove irrelevant rows\n",
    "    nhl_df.drop(nhl_df[nhl_df['team'] == 'Atlantic Division'].index, inplace=True)\n",
    "    nhl_df.drop(nhl_df[nhl_df['team'] == 'Metropolitan Division'].index, inplace=True)\n",
    "    nhl_df.drop(nhl_df[nhl_df['team'] == 'Central Division'].index, inplace=True)\n",
    "    nhl_df.drop(nhl_df[nhl_df['team'] == 'Pacific Division'].index, inplace=True)\n",
    "\n",
    "    # create new column, city, and rename the column\n",
    "    nhl_df['city'] = nhl_df['team'].apply(lambda x: x.split()[0])\n",
    "    nhl_df['city'].replace({'New': 'New York City', 'St.': 'St. Louis', 'Vegas': 'Las Vegas', 'San': 'San Francisco Bay Area',\n",
    "                       'Los': 'Los Angeles', 'Tempa': 'Tampa Bay Area', 'Florida': 'Miami–Fort Lauderdale', 'Washington': 'Washington, D.C.',\n",
    "                       'Carolina': 'Raleigh', 'Minnesota': 'Minneapolis–Saint Paul', 'Colorado': 'Denver', 'Dallas': 'Dallas–Fort Worth',\n",
    "                       'Anaheim': 'Los Angeles', 'Arizona': 'Phoenix', 'Tampa': 'Tampa Bay Area'}, inplace=True)\n",
    "    # reformat data type for column, W, L, Population\n",
    "    nhl_df['W'] = pd.to_numeric(nhl_df['W'])\n",
    "    nhl_df['L'] = pd.to_numeric(nhl_df['L'])\n",
    "    cities['Population (2016 est.)[8]'] = pd.to_numeric(cities['Population (2016 est.)[8]'])\n",
    "    # merge nhl_df and cities\n",
    "    df_new = pd.merge(nhl_df, cities, left_on='city', right_on='Metropolitan area', how='inner')\n",
    "    df_new = df_new[['city','W','L','Metropolitan area','Population (2016 est.)[8]']]\n",
    "    # groupby Metropolitan area\n",
    "    df_new_group = df_new.groupby('city').mean().reset_index()\n",
    "    # calculate w/(w+l)\n",
    "    df_new_group['ratio'] = df_new_group['W']/(df_new_group['W']+df_new_group['L'])\n",
    "    return df_new_group\n",
    "\n",
    "def nba_by_area():\n",
    "    nba_df=pd.read_csv(\"assets/nba.csv\")\n",
    "    cities=pd.read_html(\"assets/wikipedia_data.html\")[1]\n",
    "    cities=cities.iloc[:-1,[0,3,5,6,7,8]]\n",
    "    # select 2018 data\n",
    "    nba_df = nba_df[nba_df['year']==2018]\n",
    "    # remove irrelevant rows\n",
    "    nba_df.drop(nba_df[nba_df['team'] == 'Atlantic Division'].index, inplace=True)\n",
    "    nba_df.drop(nba_df[nba_df['team'] == 'Southeast Division'].index, inplace=True)\n",
    "    nba_df.drop(nba_df[nba_df['team'] == 'Central Division'].index, inplace=True)\n",
    "    nba_df.drop(nba_df[nba_df['team'] == 'Northwest Division'].index, inplace=True)\n",
    "    nba_df.drop(nba_df[nba_df['team'] == 'Pacific Division'].index, inplace=True)\n",
    "    nba_df.drop(nba_df[nba_df['team'] == 'Southwest Division'].index, inplace=True)\n",
    "\n",
    "    # create new column, city, and rename the column\n",
    "    nba_df['city'] = nba_df['team'].apply(lambda x: x.split()[0])\n",
    "    # replace city name \"new\"\n",
    "    nba_df['city'].replace({'San': 'San Antonio', 'Los': 'Los Angeles', 'Dallas': 'Dallas–Fort Worth', 'Indiana': 'Indianapolis',\n",
    "                       'Miami': 'Miami–Fort Lauderdale', 'Washington': 'Washington, D.C.', 'Brooklyn': 'New York City',\n",
    "                       'Golden': 'San Francisco Bay Area', 'Oklahoma': 'Oklahoma City', 'Utah': 'Salt Lake City', 'Minnesota': 'Minneapolis–Saint Paul',\n",
    "                       'NewYorkCity': 'New York City', 'NewOrleans': 'New Orleans'}, inplace=True)\n",
    "    nba_df['city'][10] = 'New York City'\n",
    "    nba_df['city'][20] = 'New Orleans'\n",
    "    # reformat data type for column, W, L, Population\n",
    "    nba_df['W'] = pd.to_numeric(nba_df['W'])\n",
    "    nba_df['L'] = pd.to_numeric(nba_df['L'])\n",
    "    cities['Population (2016 est.)[8]'] = pd.to_numeric(cities['Population (2016 est.)[8]'])\n",
    "    # merge nhl_df and cities\n",
    "    df_new = pd.merge(nba_df, cities, left_on='city', right_on='Metropolitan area', how='inner')\n",
    "    df_new = df_new[['city','W','L','Metropolitan area','Population (2016 est.)[8]']]\n",
    "    # groupby Metropolitan area\n",
    "    df_new_group = df_new.groupby('city').mean().reset_index()\n",
    "    # calculate w/(w+l)\n",
    "    df_new_group['ratio'] = df_new_group['W']/(df_new_group['W']+df_new_group['L'])\n",
    "    return df_new_group\n",
    "\n",
    "def mlb_by_area(): \n",
    "    mlb_df=pd.read_csv(\"assets/mlb.csv\")\n",
    "    cities=pd.read_html(\"assets/wikipedia_data.html\")[1]\n",
    "    cities=cities.iloc[:-1,[0,3,5,6,7,8]]\n",
    "    mlb_df = mlb_df[mlb_df['year']==2018]\n",
    "    # create new column, city, and rename the column\n",
    "    mlb_df['city'] = mlb_df['team'].apply(lambda x: x.split()[0])\n",
    "    # rename city name 'San'\n",
    "    mlb_df.loc[mlb_df['city'] == 'San', 'city'] = ['San Francisco Bay Area', 'San Diego']\n",
    "    mlb_df['city'].replace({'New': 'New York City', 'Los': 'Los Angeles', 'St.': 'St. Louis',\n",
    "                       'Tampa': 'Tampa Bay Area', 'Minnesota': 'Minneapolis–Saint Paul', 'Kansas': 'Kansas City',\n",
    "                       'Texas': 'Dallas–Fort Worth', 'Washington': 'Washington, D.C.', 'Miami': 'Miami–Fort Lauderdale',\n",
    "                       'Colorado': 'Denver', 'Arizona': 'Phoenix', 'Oakland': 'San Francisco Bay Area'}, inplace=True)\n",
    "    # reformat data type for column, W, L, Population\n",
    "    mlb_df['W'] = pd.to_numeric(mlb_df['W'])\n",
    "    mlb_df['L'] = pd.to_numeric(mlb_df['L'])\n",
    "    cities['Population (2016 est.)[8]'] = pd.to_numeric(cities['Population (2016 est.)[8]'])\n",
    "    # merge nhl_df and cities\n",
    "    df_new = pd.merge(mlb_df, cities, left_on='city', right_on='Metropolitan area', how='inner')\n",
    "    df_new = df_new[['city','W','L','Metropolitan area','Population (2016 est.)[8]']]\n",
    "    # groupby Metropolitan area\n",
    "    df_new_group = df_new.groupby('city').mean().reset_index()\n",
    "    # calculate w/(w+l)\n",
    "    df_new_group['ratio'] = df_new_group['W']/(df_new_group['W']+df_new_group['L'])\n",
    "    return df_new_group\n",
    "\n",
    "def nfl_by_area(): \n",
    "    nfl_df=pd.read_csv(\"assets/nfl.csv\")\n",
    "    cities=pd.read_html(\"assets/wikipedia_data.html\")[1]\n",
    "    cities=cities.iloc[:-1,[0,3,5,6,7,8]]\n",
    "    nfl_df = nfl_df[nfl_df['year']==2018]\n",
    "    # remove irrelevant rows\n",
    "    nfl_df.drop(nfl_df[nfl_df['team'] == 'AFC East'].index, inplace=True)\n",
    "    nfl_df.drop(nfl_df[nfl_df['team'] == 'AFC North'].index, inplace=True)\n",
    "    nfl_df.drop(nfl_df[nfl_df['team'] == 'AFC South'].index, inplace=True)\n",
    "    nfl_df.drop(nfl_df[nfl_df['team'] == 'AFC West'].index, inplace=True)\n",
    "    nfl_df.drop(nfl_df[nfl_df['team'] == 'NFC East'].index, inplace=True)\n",
    "    nfl_df.drop(nfl_df[nfl_df['team'] == 'NFC North'].index, inplace=True)\n",
    "    nfl_df.drop(nfl_df[nfl_df['team'] == 'NFC South'].index, inplace=True)\n",
    "    nfl_df.drop(nfl_df[nfl_df['team'] == 'NFC West'].index, inplace=True)\n",
    "    # create new column, city, and rename the column\n",
    "    nfl_df['city'] = nfl_df['team'].apply(lambda x: x.split()[0])\n",
    "    # rename city name \"New\"\n",
    "    nfl_df.loc[nfl_df['city']=='New', 'city'] = ['Boston', 'New York City', 'New York City', 'New Orleans']\n",
    "    nfl_df['city'].replace({'Miami': 'Miami–Fort Lauderdale', 'Tennessee': 'Nashville', 'Kansas': 'Kansas City',\n",
    "                       'Los': 'Los Angeles', 'Oakland': 'San Francisco Bay Area', 'Dallas': 'Dallas–Fort Worth',\n",
    "                       'Washington': 'Washington, D.C.', 'Minnesota': 'Minneapolis–Saint Paul', 'Green': 'Green Bay',\n",
    "                       'Carolina': 'Charlotte', 'Tampa': 'Tampa Bay Area', 'San': 'San Francisco Bay Area',\n",
    "                       'Arizona': 'Phoenix'}, inplace=True)\n",
    "    # reformat data type for column, W, L, Population\n",
    "    nfl_df['W'] = pd.to_numeric(nfl_df['W'])\n",
    "    nfl_df['L'] = pd.to_numeric(nfl_df['L'])\n",
    "    cities['Population (2016 est.)[8]'] = pd.to_numeric(cities['Population (2016 est.)[8]'])\n",
    "    # merge nhl_df and cities\n",
    "    df_new = pd.merge(nfl_df, cities, left_on='city', right_on='Metropolitan area', how='inner')\n",
    "    df_new = df_new[['city','W','L','Metropolitan area','Population (2016 est.)[8]']]\n",
    "    # groupby Metropolitan area\n",
    "    df_new_group = df_new.groupby('city').mean().reset_index()\n",
    "    # calculate w/(w+l)\n",
    "    df_new_group['ratio'] = df_new_group['W']/(df_new_group['W']+df_new_group['L'])\n",
    "    return df_new_group\n",
    "\n",
    "df_nhl = nhl_by_area()\n",
    "df_nba = nba_by_area()\n",
    "df_mlb = mlb_by_area()\n",
    "df_nfl = nfl_by_area()\n",
    "\n",
    "# perform hypothesis test for each pair\n",
    "nhl_nba = pd.merge(df_nhl, df_nba, on='city', how='inner')\n",
    "pval_nhl_nba = stats.ttest_rel(nhl_nba['ratio_x'], nhl_nba['ratio_y'])[1]\n",
    "nhl_mlb = pd.merge(df_nhl, df_mlb, on='city', how='inner')\n",
    "pval_nhl_mlb = stats.ttest_rel(nhl_mlb['ratio_x'], nhl_mlb['ratio_y'])[1]\n",
    "nhl_nfl = pd.merge(df_nhl, df_nfl, on='city', how='inner')\n",
    "pval_nhl_nfl = stats.ttest_rel(nhl_nfl['ratio_x'], nhl_nfl['ratio_y'])[1]\n",
    "nba_mlb = pd.merge(df_nba, df_mlb, on='city', how='inner')\n",
    "pval_nba_mlb = stats.ttest_rel(nba_mlb['ratio_x'], nba_mlb['ratio_y'])[1]\n",
    "nba_nfl = pd.merge(df_nba, df_nfl, on='city', how='inner')\n",
    "pval_nba_nfl = stats.ttest_rel(nba_nfl['ratio_x'], nba_nfl['ratio_y'])[1]\n",
    "mlb_nfl = pd.merge(df_mlb, df_nfl, on='city', how='inner')\n",
    "pval_mlb_nfl = stats.ttest_rel(mlb_nfl['ratio_x'], mlb_nfl['ratio_y'])[1]\n",
    "\n",
    "def sports_team_performance():\n",
    "    # YOUR CODE HERE\n",
    "    # raise NotImplementedError()\n",
    "    \n",
    "    # Note: p_values is a full dataframe, so df.loc[\"NFL\",\"NBA\"] should be the same as df.loc[\"NBA\",\"NFL\"] and\n",
    "    # df.loc[\"NFL\",\"NFL\"] should return np.nan\n",
    "    sports = ['NFL', 'NBA', 'NHL', 'MLB']\n",
    "    p_values = pd.DataFrame({k:np.nan for k in sports}, index=sports)\n",
    "    p_values['NFL']['NBA'] = pval_nba_nfl; p_values['NFL']['NHL'] = pval_nhl_nfl; p_values['NFL']['MLB'] = pval_mlb_nfl\n",
    "    p_values['NBA']['NHL'] = pval_nhl_nba; p_values['NBA']['MLB'] = pval_nba_mlb; p_values['NHL']['MLB'] = pval_nhl_mlb\n",
    "    p_values['NBA']['NFL'] = pval_nba_nfl; p_values['NHL']['NFL'] = pval_nhl_nfl; p_values['MLB']['NFL'] = pval_mlb_nfl\n",
    "    p_values['NHL']['NBA'] = pval_nhl_nba; p_values['MLB']['NBA'] = pval_nba_mlb; p_values['MLB']['NHL'] = pval_nhl_mlb    \n",
    "    assert abs(p_values.loc[\"NBA\", \"NHL\"] - 0.02) <= 1e-2, \"The NBA-NHL p-value should be around 0.02\"\n",
    "    assert abs(p_values.loc[\"MLB\", \"NFL\"] - 0.80) <= 1e-2, \"The MLB-NFL p-value should be around 0.80\"\n",
    "    return p_values\n",
    "\n",
    "sports_team_performance()"
   ]
  },
  {
   "cell_type": "code",
   "execution_count": null,
   "metadata": {
    "deletable": false,
    "editable": false,
    "nbgrader": {
     "checksum": "2a596ab421a45cc01168d10e8fbb8f89",
     "grade": true,
     "grade_id": "cell-fb4b9cb5ff4570a6",
     "locked": true,
     "points": 20,
     "schema_version": 1,
     "solution": false
    }
   },
   "outputs": [],
   "source": []
  }
 ],
 "metadata": {
  "coursera": {
   "schema_names": [
    "mooc_adswpy_1_v2_assignment4"
   ]
  },
  "kernelspec": {
   "display_name": "Python 3",
   "language": "python",
   "name": "python3"
  },
  "language_info": {
   "codemirror_mode": {
    "name": "ipython",
    "version": 3
   },
   "file_extension": ".py",
   "mimetype": "text/x-python",
   "name": "python",
   "nbconvert_exporter": "python",
   "pygments_lexer": "ipython3",
   "version": "3.7.3"
  }
 },
 "nbformat": 4,
 "nbformat_minor": 4
}
